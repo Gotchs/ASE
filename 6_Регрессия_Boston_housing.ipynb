{
  "nbformat": 4,
  "nbformat_minor": 0,
  "metadata": {
    "colab": {
      "provenance": [],
      "include_colab_link": true
    },
    "kernelspec": {
      "name": "python3",
      "display_name": "Python 3"
    },
    "accelerator": "GPU"
  },
  "cells": [
    {
      "cell_type": "markdown",
      "metadata": {
        "id": "view-in-github",
        "colab_type": "text"
      },
      "source": [
        "<a href=\"https://colab.research.google.com/github/Gotchs/ASE/blob/main/6_%D0%A0%D0%B5%D0%B3%D1%80%D0%B5%D1%81%D1%81%D0%B8%D1%8F_Boston_housing.ipynb\" target=\"_parent\"><img src=\"https://colab.research.google.com/assets/colab-badge.svg\" alt=\"Open In Colab\"/></a>"
      ]
    },
    {
      "cell_type": "markdown",
      "source": [
        "*   Видео урок: https://www.youtube.com/watch?v=VzkvJRIzIVI\n",
        "*   Оригинал файла: https://colab.research.google.com/drive/1xbR2fz7_zQuYVACYQJtSaQ23rqBiyVBK"
      ],
      "metadata": {
        "id": "aGCWIWSOGdxK"
      }
    },
    {
      "cell_type": "markdown",
      "metadata": {
        "id": "UjfquuN3HkHt"
      },
      "source": [
        "## Решение задачи регрессии с помощью нейронных сетей\n",
        "\n",
        "Определение стоимости недвижимости из набора данных Boston Housing\n",
        "\n",
        "Чтобы запускать и редактировать код, сохраните копию этого ноутбука себе (File->Save a copy in Drive...). Свою копию вы сможете изменять и запускать.\n"
      ]
    },
    {
      "cell_type": "code",
      "metadata": {
        "outputId": "6d7c9b0a-7650-43b0-ddc6-0d89b36e1f5c",
        "id": "WuyZZfDKs4Es",
        "colab": {
          "base_uri": "https://localhost:8080/",
          "height": 82
        }
      },
      "source": [
        "from tensorflow.keras.datasets import boston_housing\n",
        "from tensorflow.keras.models import Sequential\n",
        "from tensorflow.keras.layers import Dense\n",
        "import matplotlib.pyplot as plt\n",
        "#from scipy.misc import toimage\n",
        "%matplotlib inline "
      ],
      "execution_count": null,
      "outputs": [
        {
          "output_type": "display_data",
          "data": {
            "text/html": [
              "<p style=\"color: red;\">\n",
              "The default version of TensorFlow in Colab will soon switch to TensorFlow 2.x.<br>\n",
              "We recommend you <a href=\"https://www.tensorflow.org/guide/migrate\" target=\"_blank\">upgrade</a> now \n",
              "or ensure your notebook will continue to use TensorFlow 1.x via the <code>%tensorflow_version 1.x</code> magic:\n",
              "<a href=\"https://colab.research.google.com/notebooks/tensorflow_version.ipynb\" target=\"_blank\">more info</a>.</p>\n"
            ],
            "text/plain": [
              "<IPython.core.display.HTML object>"
            ]
          },
          "metadata": {
            "tags": []
          }
        }
      ]
    },
    {
      "cell_type": "markdown",
      "metadata": {
        "id": "ZvvstlPis4Eq"
      },
      "source": [
        "## Подготовка данных"
      ]
    },
    {
      "cell_type": "markdown",
      "metadata": {
        "id": "ludvZ0tCs4Ep"
      },
      "source": [
        "**Загружаем данные**"
      ]
    },
    {
      "cell_type": "code",
      "metadata": {
        "id": "5v6vpbjTs4En"
      },
      "source": [
        "(x_train, y_train), (x_test, y_test) = boston_housing.load_data()"
      ],
      "execution_count": null,
      "outputs": []
    },
    {
      "cell_type": "markdown",
      "metadata": {
        "id": "RFGC6ki8s4El"
      },
      "source": [
        "**Просмотр данных**"
      ]
    },
    {
      "cell_type": "code",
      "metadata": {
        "outputId": "85999267-4a41-411e-af23-f7907bac08a6",
        "id": "l1RQBwUvs4Eg",
        "colab": {
          "base_uri": "https://localhost:8080/",
          "height": 72
        }
      },
      "source": [
        "n = 51\n",
        "print(x_train[n]) #дом\n",
        "print(y_train[n]) #его цена"
      ],
      "execution_count": null,
      "outputs": [
        {
          "output_type": "stream",
          "text": [
            "[ 14.4208   0.      18.1      0.       0.74     6.461   93.3      2.0026\n",
            "  24.     666.      20.2     27.49    18.05  ]\n",
            "9.6\n"
          ],
          "name": "stdout"
        }
      ]
    },
    {
      "cell_type": "code",
      "metadata": {
        "outputId": "a24c666d-8e6d-4dfa-fd0d-bc09376497eb",
        "id": "qblwQJpos4Ee",
        "colab": {
          "base_uri": "https://localhost:8080/",
          "height": 35
        }
      },
      "source": [
        "print(x_train.shape)"
      ],
      "execution_count": null,
      "outputs": [
        {
          "output_type": "stream",
          "text": [
            "(404, 13)\n"
          ],
          "name": "stdout"
        }
      ]
    },
    {
      "cell_type": "markdown",
      "metadata": {
        "id": "P9EJrJT2s4Ed"
      },
      "source": [
        "**Стандартизация данных**\n",
        "\n",
        "Вычитаем среднее значение и делим на стандартное отклонение\n"
      ]
    },
    {
      "cell_type": "code",
      "metadata": {
        "id": "pxwG4EA4s4Ea"
      },
      "source": [
        "# Среднее значение\n",
        "mean = x_train.mean(axis=0)\n",
        "\n",
        "# Стандартное отклонение\n",
        "std = x_train.std(axis=0)\n",
        "x_train -= mean\n",
        "x_train /= std\n",
        "x_test -= mean\n",
        "x_test /= std"
      ],
      "execution_count": null,
      "outputs": []
    },
    {
      "cell_type": "code",
      "metadata": {
        "id": "df6o30e7s4EX"
      },
      "source": [
        "# Приводим значения в диапазон от 0 до 1\n",
        "min_y = y_train.min()\n",
        "max_y = y_train.max()\n",
        "\n",
        "y_train = (y_train - min_y) / (max_y - min_y) #отклонение от минимума к амплитуде\n",
        "y_test = (y_test - min_y) / (max_y - min_y)"
      ],
      "execution_count": null,
      "outputs": []
    },
    {
      "cell_type": "code",
      "metadata": {
        "outputId": "4dd5e1f4-98d0-40c1-f757-ac6a33cefe7d",
        "id": "facbROhNs4ES",
        "colab": {
          "base_uri": "https://localhost:8080/",
          "height": 91
        }
      },
      "source": [
        "# Нормированные данные\n",
        "print(x_train[n])\n",
        "print(y_train[n])"
      ],
      "execution_count": null,
      "outputs": [
        {
          "output_type": "stream",
          "text": [
            "[ 1.15671829 -0.48361547  1.0283258  -0.25683275  1.5590902   0.27354487\n",
            "  0.87039709 -0.8569662   1.67588577  1.5652875   0.78447637 -3.48204219\n",
            "  0.73274979]\n",
            "9.6\n"
          ],
          "name": "stdout"
        }
      ]
    },
    {
      "cell_type": "markdown",
      "metadata": {
        "id": "45ucKsvVs4EP"
      },
      "source": [
        "## Создаем нейронную сеть\n",
        "\n",
        "Выходной слой с одним линейным нейроном - для задачи регрессии функция активации - RELU.\n",
        "\n",
        "Конфигурация сети из примера - https://www.tensorflow.org/tutorials/keras/basic_regression"
      ]
    },
    {
      "cell_type": "code",
      "metadata": {
        "id": "Mgxmo0Kgs4EJ"
      },
      "source": [
        "model = Sequential()\n",
        "model.add(Dense(64, activation='relu', input_shape=(x_train.shape[1],)))\n",
        "model.add(Dense(64, activation='relu'))\n",
        "model.add(Dense(1, activation='sigmoid')) # sigmoid, т.к. данные от 0 до 1"
      ],
      "execution_count": null,
      "outputs": []
    },
    {
      "cell_type": "code",
      "metadata": {
        "id": "PBWEfkees4ED"
      },
      "source": [
        "print(model.summary()) # архитектура нашей модели"
      ],
      "execution_count": null,
      "outputs": []
    },
    {
      "cell_type": "markdown",
      "metadata": {
        "id": "vvKqFpAQs4EC"
      },
      "source": [
        "**Компилируем сеть**\n",
        "\n",
        "Функция ошибки - среднеквадратичное отклонение. Метрика - среднее абсолютное отклонение."
      ]
    },
    {
      "cell_type": "code",
      "metadata": {
        "id": "ISo09wj0s4D9"
      },
      "source": [
        "# Т.к. задача регрессии, удобнее использовать mean square error(средне-квадратичная ошибка).\n",
        "# В качестве метрики берем mean absolute error (средний модуль ошибки)\n",
        "model.compile(optimizer='rmsprop', loss='mse', metrics=['mae'])"
      ],
      "execution_count": null,
      "outputs": []
    },
    {
      "cell_type": "markdown",
      "metadata": {
        "id": "0qIVwoTns4D3"
      },
      "source": [
        "## Обучаем нейронную сеть\n",
        "\n"
      ]
    },
    {
      "cell_type": "code",
      "metadata": {
        "outputId": "4b40282b-7edf-441d-c74c-b79cafcd3608",
        "id": "65rcHk02s4Du",
        "colab": {
          "base_uri": "https://localhost:8080/",
          "height": 1000
        }
      },
      "source": [
        "history = model.fit(x_train, \n",
        "                    y_train, \n",
        "                    epochs=100, \n",
        "                    validation_split=0.1, \n",
        "                    verbose=2)"
      ],
      "execution_count": null,
      "outputs": [
        {
          "output_type": "stream",
          "text": [
            "Train on 363 samples, validate on 41 samples\n",
            "Epoch 1/100\n",
            "363/363 - 0s - loss: 0.0809 - mean_absolute_error: 0.2037 - val_loss: 0.0279 - val_mean_absolute_error: 0.1272\n",
            "Epoch 2/100\n",
            "363/363 - 0s - loss: 0.0257 - mean_absolute_error: 0.1198 - val_loss: 0.0099 - val_mean_absolute_error: 0.0720\n",
            "Epoch 3/100\n",
            "363/363 - 0s - loss: 0.0171 - mean_absolute_error: 0.0968 - val_loss: 0.0110 - val_mean_absolute_error: 0.0769\n",
            "Epoch 4/100\n",
            "363/363 - 0s - loss: 0.0129 - mean_absolute_error: 0.0867 - val_loss: 0.0086 - val_mean_absolute_error: 0.0686\n",
            "Epoch 5/100\n",
            "363/363 - 0s - loss: 0.0105 - mean_absolute_error: 0.0784 - val_loss: 0.0096 - val_mean_absolute_error: 0.0729\n",
            "Epoch 6/100\n",
            "363/363 - 0s - loss: 0.0093 - mean_absolute_error: 0.0724 - val_loss: 0.0112 - val_mean_absolute_error: 0.0823\n",
            "Epoch 7/100\n",
            "363/363 - 0s - loss: 0.0073 - mean_absolute_error: 0.0624 - val_loss: 0.0090 - val_mean_absolute_error: 0.0674\n",
            "Epoch 8/100\n",
            "363/363 - 0s - loss: 0.0067 - mean_absolute_error: 0.0593 - val_loss: 0.0098 - val_mean_absolute_error: 0.0733\n",
            "Epoch 9/100\n",
            "363/363 - 0s - loss: 0.0070 - mean_absolute_error: 0.0613 - val_loss: 0.0117 - val_mean_absolute_error: 0.0839\n",
            "Epoch 10/100\n",
            "363/363 - 0s - loss: 0.0086 - mean_absolute_error: 0.0672 - val_loss: 0.0073 - val_mean_absolute_error: 0.0668\n",
            "Epoch 11/100\n",
            "363/363 - 0s - loss: 0.0049 - mean_absolute_error: 0.0498 - val_loss: 0.0140 - val_mean_absolute_error: 0.0850\n",
            "Epoch 12/100\n",
            "363/363 - 0s - loss: 0.0075 - mean_absolute_error: 0.0609 - val_loss: 0.0103 - val_mean_absolute_error: 0.0747\n",
            "Epoch 13/100\n",
            "363/363 - 0s - loss: 0.0056 - mean_absolute_error: 0.0534 - val_loss: 0.0072 - val_mean_absolute_error: 0.0623\n",
            "Epoch 14/100\n",
            "363/363 - 0s - loss: 0.0047 - mean_absolute_error: 0.0504 - val_loss: 0.0135 - val_mean_absolute_error: 0.0867\n",
            "Epoch 15/100\n",
            "363/363 - 0s - loss: 0.0061 - mean_absolute_error: 0.0583 - val_loss: 0.0059 - val_mean_absolute_error: 0.0542\n",
            "Epoch 16/100\n",
            "363/363 - 0s - loss: 0.0057 - mean_absolute_error: 0.0542 - val_loss: 0.0147 - val_mean_absolute_error: 0.0885\n",
            "Epoch 17/100\n",
            "363/363 - 0s - loss: 0.0055 - mean_absolute_error: 0.0519 - val_loss: 0.0053 - val_mean_absolute_error: 0.0550\n",
            "Epoch 18/100\n",
            "363/363 - 0s - loss: 0.0062 - mean_absolute_error: 0.0551 - val_loss: 0.0050 - val_mean_absolute_error: 0.0526\n",
            "Epoch 19/100\n",
            "363/363 - 0s - loss: 0.0033 - mean_absolute_error: 0.0401 - val_loss: 0.0064 - val_mean_absolute_error: 0.0642\n",
            "Epoch 20/100\n",
            "363/363 - 0s - loss: 0.0059 - mean_absolute_error: 0.0532 - val_loss: 0.0047 - val_mean_absolute_error: 0.0540\n",
            "Epoch 21/100\n",
            "363/363 - 0s - loss: 0.0043 - mean_absolute_error: 0.0470 - val_loss: 0.0048 - val_mean_absolute_error: 0.0521\n",
            "Epoch 22/100\n",
            "363/363 - 0s - loss: 0.0045 - mean_absolute_error: 0.0475 - val_loss: 0.0122 - val_mean_absolute_error: 0.0813\n",
            "Epoch 23/100\n",
            "363/363 - 0s - loss: 0.0044 - mean_absolute_error: 0.0476 - val_loss: 0.0039 - val_mean_absolute_error: 0.0502\n",
            "Epoch 24/100\n",
            "363/363 - 0s - loss: 0.0049 - mean_absolute_error: 0.0531 - val_loss: 0.0047 - val_mean_absolute_error: 0.0525\n",
            "Epoch 25/100\n",
            "363/363 - 0s - loss: 0.0037 - mean_absolute_error: 0.0431 - val_loss: 0.0092 - val_mean_absolute_error: 0.0755\n",
            "Epoch 26/100\n",
            "363/363 - 0s - loss: 0.0041 - mean_absolute_error: 0.0470 - val_loss: 0.0054 - val_mean_absolute_error: 0.0559\n",
            "Epoch 27/100\n",
            "363/363 - 0s - loss: 0.0048 - mean_absolute_error: 0.0504 - val_loss: 0.0053 - val_mean_absolute_error: 0.0595\n",
            "Epoch 28/100\n",
            "363/363 - 0s - loss: 0.0047 - mean_absolute_error: 0.0508 - val_loss: 0.0133 - val_mean_absolute_error: 0.0808\n",
            "Epoch 29/100\n",
            "363/363 - 0s - loss: 0.0032 - mean_absolute_error: 0.0405 - val_loss: 0.0047 - val_mean_absolute_error: 0.0578\n",
            "Epoch 30/100\n",
            "363/363 - 0s - loss: 0.0036 - mean_absolute_error: 0.0426 - val_loss: 0.0073 - val_mean_absolute_error: 0.0748\n",
            "Epoch 31/100\n",
            "363/363 - 0s - loss: 0.0042 - mean_absolute_error: 0.0450 - val_loss: 0.0060 - val_mean_absolute_error: 0.0628\n",
            "Epoch 32/100\n",
            "363/363 - 0s - loss: 0.0031 - mean_absolute_error: 0.0412 - val_loss: 0.0043 - val_mean_absolute_error: 0.0540\n",
            "Epoch 33/100\n",
            "363/363 - 0s - loss: 0.0041 - mean_absolute_error: 0.0468 - val_loss: 0.0068 - val_mean_absolute_error: 0.0644\n",
            "Epoch 34/100\n",
            "363/363 - 0s - loss: 0.0035 - mean_absolute_error: 0.0432 - val_loss: 0.0079 - val_mean_absolute_error: 0.0678\n",
            "Epoch 35/100\n",
            "363/363 - 0s - loss: 0.0044 - mean_absolute_error: 0.0472 - val_loss: 0.0043 - val_mean_absolute_error: 0.0517\n",
            "Epoch 36/100\n",
            "363/363 - 0s - loss: 0.0042 - mean_absolute_error: 0.0461 - val_loss: 0.0074 - val_mean_absolute_error: 0.0673\n",
            "Epoch 37/100\n",
            "363/363 - 0s - loss: 0.0033 - mean_absolute_error: 0.0415 - val_loss: 0.0070 - val_mean_absolute_error: 0.0585\n",
            "Epoch 38/100\n",
            "363/363 - 0s - loss: 0.0030 - mean_absolute_error: 0.0389 - val_loss: 0.0045 - val_mean_absolute_error: 0.0515\n",
            "Epoch 39/100\n",
            "363/363 - 0s - loss: 0.0043 - mean_absolute_error: 0.0491 - val_loss: 0.0063 - val_mean_absolute_error: 0.0605\n",
            "Epoch 40/100\n",
            "363/363 - 0s - loss: 0.0029 - mean_absolute_error: 0.0390 - val_loss: 0.0041 - val_mean_absolute_error: 0.0476\n",
            "Epoch 41/100\n",
            "363/363 - 0s - loss: 0.0035 - mean_absolute_error: 0.0440 - val_loss: 0.0075 - val_mean_absolute_error: 0.0673\n",
            "Epoch 42/100\n",
            "363/363 - 0s - loss: 0.0039 - mean_absolute_error: 0.0466 - val_loss: 0.0040 - val_mean_absolute_error: 0.0515\n",
            "Epoch 43/100\n",
            "363/363 - 0s - loss: 0.0027 - mean_absolute_error: 0.0369 - val_loss: 0.0103 - val_mean_absolute_error: 0.0763\n",
            "Epoch 44/100\n",
            "363/363 - 0s - loss: 0.0035 - mean_absolute_error: 0.0398 - val_loss: 0.0031 - val_mean_absolute_error: 0.0452\n",
            "Epoch 45/100\n",
            "363/363 - 0s - loss: 0.0040 - mean_absolute_error: 0.0481 - val_loss: 0.0034 - val_mean_absolute_error: 0.0440\n",
            "Epoch 46/100\n",
            "363/363 - 0s - loss: 0.0037 - mean_absolute_error: 0.0404 - val_loss: 0.0037 - val_mean_absolute_error: 0.0477\n",
            "Epoch 47/100\n",
            "363/363 - 0s - loss: 0.0028 - mean_absolute_error: 0.0373 - val_loss: 0.0035 - val_mean_absolute_error: 0.0467\n",
            "Epoch 48/100\n",
            "363/363 - 0s - loss: 0.0032 - mean_absolute_error: 0.0394 - val_loss: 0.0080 - val_mean_absolute_error: 0.0721\n",
            "Epoch 49/100\n",
            "363/363 - 0s - loss: 0.0035 - mean_absolute_error: 0.0363 - val_loss: 0.0030 - val_mean_absolute_error: 0.0433\n",
            "Epoch 50/100\n",
            "363/363 - 0s - loss: 0.0023 - mean_absolute_error: 0.0358 - val_loss: 0.0108 - val_mean_absolute_error: 0.0705\n",
            "Epoch 51/100\n",
            "363/363 - 0s - loss: 0.0033 - mean_absolute_error: 0.0411 - val_loss: 0.0097 - val_mean_absolute_error: 0.0811\n",
            "Epoch 52/100\n",
            "363/363 - 0s - loss: 0.0027 - mean_absolute_error: 0.0369 - val_loss: 0.0095 - val_mean_absolute_error: 0.0742\n",
            "Epoch 53/100\n",
            "363/363 - 0s - loss: 0.0028 - mean_absolute_error: 0.0360 - val_loss: 0.0071 - val_mean_absolute_error: 0.0675\n",
            "Epoch 54/100\n",
            "363/363 - 0s - loss: 0.0028 - mean_absolute_error: 0.0390 - val_loss: 0.0065 - val_mean_absolute_error: 0.0599\n",
            "Epoch 55/100\n",
            "363/363 - 0s - loss: 0.0031 - mean_absolute_error: 0.0410 - val_loss: 0.0041 - val_mean_absolute_error: 0.0487\n",
            "Epoch 56/100\n",
            "363/363 - 0s - loss: 0.0035 - mean_absolute_error: 0.0409 - val_loss: 0.0031 - val_mean_absolute_error: 0.0441\n",
            "Epoch 57/100\n",
            "363/363 - 0s - loss: 0.0022 - mean_absolute_error: 0.0335 - val_loss: 0.0061 - val_mean_absolute_error: 0.0593\n",
            "Epoch 58/100\n",
            "363/363 - 0s - loss: 0.0038 - mean_absolute_error: 0.0451 - val_loss: 0.0039 - val_mean_absolute_error: 0.0486\n",
            "Epoch 59/100\n",
            "363/363 - 0s - loss: 0.0019 - mean_absolute_error: 0.0309 - val_loss: 0.0065 - val_mean_absolute_error: 0.0665\n",
            "Epoch 60/100\n",
            "363/363 - 0s - loss: 0.0033 - mean_absolute_error: 0.0424 - val_loss: 0.0095 - val_mean_absolute_error: 0.0696\n",
            "Epoch 61/100\n",
            "363/363 - 0s - loss: 0.0025 - mean_absolute_error: 0.0366 - val_loss: 0.0030 - val_mean_absolute_error: 0.0391\n",
            "Epoch 62/100\n",
            "363/363 - 0s - loss: 0.0026 - mean_absolute_error: 0.0361 - val_loss: 0.0048 - val_mean_absolute_error: 0.0545\n",
            "Epoch 63/100\n",
            "363/363 - 0s - loss: 0.0025 - mean_absolute_error: 0.0364 - val_loss: 0.0054 - val_mean_absolute_error: 0.0600\n",
            "Epoch 64/100\n",
            "363/363 - 0s - loss: 0.0027 - mean_absolute_error: 0.0360 - val_loss: 0.0050 - val_mean_absolute_error: 0.0525\n",
            "Epoch 65/100\n",
            "363/363 - 0s - loss: 0.0030 - mean_absolute_error: 0.0388 - val_loss: 0.0040 - val_mean_absolute_error: 0.0459\n",
            "Epoch 66/100\n",
            "363/363 - 0s - loss: 0.0022 - mean_absolute_error: 0.0340 - val_loss: 0.0092 - val_mean_absolute_error: 0.0745\n",
            "Epoch 67/100\n",
            "363/363 - 0s - loss: 0.0026 - mean_absolute_error: 0.0366 - val_loss: 0.0041 - val_mean_absolute_error: 0.0523\n",
            "Epoch 68/100\n",
            "363/363 - 0s - loss: 0.0023 - mean_absolute_error: 0.0356 - val_loss: 0.0035 - val_mean_absolute_error: 0.0423\n",
            "Epoch 69/100\n",
            "363/363 - 0s - loss: 0.0034 - mean_absolute_error: 0.0426 - val_loss: 0.0047 - val_mean_absolute_error: 0.0538\n",
            "Epoch 70/100\n",
            "363/363 - 0s - loss: 0.0018 - mean_absolute_error: 0.0305 - val_loss: 0.0066 - val_mean_absolute_error: 0.0661\n",
            "Epoch 71/100\n",
            "363/363 - 0s - loss: 0.0030 - mean_absolute_error: 0.0417 - val_loss: 0.0063 - val_mean_absolute_error: 0.0622\n",
            "Epoch 72/100\n",
            "363/363 - 0s - loss: 0.0016 - mean_absolute_error: 0.0283 - val_loss: 0.0037 - val_mean_absolute_error: 0.0466\n",
            "Epoch 73/100\n",
            "363/363 - 0s - loss: 0.0029 - mean_absolute_error: 0.0412 - val_loss: 0.0037 - val_mean_absolute_error: 0.0486\n",
            "Epoch 74/100\n",
            "363/363 - 0s - loss: 0.0021 - mean_absolute_error: 0.0328 - val_loss: 0.0105 - val_mean_absolute_error: 0.0823\n",
            "Epoch 75/100\n",
            "363/363 - 0s - loss: 0.0030 - mean_absolute_error: 0.0356 - val_loss: 0.0045 - val_mean_absolute_error: 0.0537\n",
            "Epoch 76/100\n",
            "363/363 - 0s - loss: 0.0023 - mean_absolute_error: 0.0350 - val_loss: 0.0050 - val_mean_absolute_error: 0.0517\n",
            "Epoch 77/100\n",
            "363/363 - 0s - loss: 0.0022 - mean_absolute_error: 0.0340 - val_loss: 0.0049 - val_mean_absolute_error: 0.0541\n",
            "Epoch 78/100\n",
            "363/363 - 0s - loss: 0.0021 - mean_absolute_error: 0.0337 - val_loss: 0.0079 - val_mean_absolute_error: 0.0724\n",
            "Epoch 79/100\n",
            "363/363 - 0s - loss: 0.0028 - mean_absolute_error: 0.0389 - val_loss: 0.0062 - val_mean_absolute_error: 0.0638\n",
            "Epoch 80/100\n",
            "363/363 - 0s - loss: 0.0020 - mean_absolute_error: 0.0332 - val_loss: 0.0042 - val_mean_absolute_error: 0.0500\n",
            "Epoch 81/100\n",
            "363/363 - 0s - loss: 0.0021 - mean_absolute_error: 0.0329 - val_loss: 0.0065 - val_mean_absolute_error: 0.0599\n",
            "Epoch 82/100\n",
            "363/363 - 0s - loss: 0.0023 - mean_absolute_error: 0.0342 - val_loss: 0.0044 - val_mean_absolute_error: 0.0521\n",
            "Epoch 83/100\n",
            "363/363 - 0s - loss: 0.0019 - mean_absolute_error: 0.0319 - val_loss: 0.0037 - val_mean_absolute_error: 0.0521\n",
            "Epoch 84/100\n",
            "363/363 - 0s - loss: 0.0026 - mean_absolute_error: 0.0379 - val_loss: 0.0035 - val_mean_absolute_error: 0.0433\n",
            "Epoch 85/100\n",
            "363/363 - 0s - loss: 0.0023 - mean_absolute_error: 0.0341 - val_loss: 0.0053 - val_mean_absolute_error: 0.0572\n",
            "Epoch 86/100\n",
            "363/363 - 0s - loss: 0.0020 - mean_absolute_error: 0.0333 - val_loss: 0.0035 - val_mean_absolute_error: 0.0476\n",
            "Epoch 87/100\n",
            "363/363 - 0s - loss: 0.0018 - mean_absolute_error: 0.0306 - val_loss: 0.0027 - val_mean_absolute_error: 0.0414\n",
            "Epoch 88/100\n",
            "363/363 - 0s - loss: 0.0026 - mean_absolute_error: 0.0391 - val_loss: 0.0037 - val_mean_absolute_error: 0.0472\n",
            "Epoch 89/100\n",
            "363/363 - 0s - loss: 0.0023 - mean_absolute_error: 0.0367 - val_loss: 0.0037 - val_mean_absolute_error: 0.0461\n",
            "Epoch 90/100\n",
            "363/363 - 0s - loss: 0.0020 - mean_absolute_error: 0.0327 - val_loss: 0.0030 - val_mean_absolute_error: 0.0421\n",
            "Epoch 91/100\n",
            "363/363 - 0s - loss: 0.0023 - mean_absolute_error: 0.0353 - val_loss: 0.0042 - val_mean_absolute_error: 0.0494\n",
            "Epoch 92/100\n",
            "363/363 - 0s - loss: 0.0022 - mean_absolute_error: 0.0348 - val_loss: 0.0044 - val_mean_absolute_error: 0.0528\n",
            "Epoch 93/100\n",
            "363/363 - 0s - loss: 0.0020 - mean_absolute_error: 0.0315 - val_loss: 0.0050 - val_mean_absolute_error: 0.0560\n",
            "Epoch 94/100\n",
            "363/363 - 0s - loss: 0.0015 - mean_absolute_error: 0.0267 - val_loss: 0.0070 - val_mean_absolute_error: 0.0672\n",
            "Epoch 95/100\n",
            "363/363 - 0s - loss: 0.0019 - mean_absolute_error: 0.0325 - val_loss: 0.0064 - val_mean_absolute_error: 0.0601\n",
            "Epoch 96/100\n",
            "363/363 - 0s - loss: 0.0020 - mean_absolute_error: 0.0338 - val_loss: 0.0071 - val_mean_absolute_error: 0.0682\n",
            "Epoch 97/100\n",
            "363/363 - 0s - loss: 0.0021 - mean_absolute_error: 0.0337 - val_loss: 0.0050 - val_mean_absolute_error: 0.0588\n",
            "Epoch 98/100\n",
            "363/363 - 0s - loss: 0.0018 - mean_absolute_error: 0.0313 - val_loss: 0.0034 - val_mean_absolute_error: 0.0467\n",
            "Epoch 99/100\n",
            "363/363 - 0s - loss: 0.0026 - mean_absolute_error: 0.0386 - val_loss: 0.0065 - val_mean_absolute_error: 0.0643\n",
            "Epoch 100/100\n",
            "363/363 - 0s - loss: 0.0015 - mean_absolute_error: 0.0274 - val_loss: 0.0056 - val_mean_absolute_error: 0.0608\n"
          ],
          "name": "stdout"
        }
      ]
    },
    {
      "cell_type": "code",
      "metadata": {
        "id": "encfqTCis4Df"
      },
      "source": [
        "# Делаем прогноз. Возвращается копия предсказания в виде одномерного массива\n",
        "pred = model.predict(x_test).flatten() \n",
        "\n",
        "# Возвращаем к прежнему размеру\n",
        "pred = pred * (max_y - min_y) + min_y \n",
        "y_test = y_test * (max_y - min_y) + min_y\n",
        " \n",
        "# Средний модуль отклонения  \n",
        "err = sum(abs(pred - y_test)) / len(pred)"
      ],
      "execution_count": null,
      "outputs": []
    },
    {
      "cell_type": "code",
      "metadata": {
        "outputId": "878749ab-eaee-4d4c-8e0c-826fdf4a66a2",
        "id": "uEdkMPDes4DS",
        "colab": {
          "base_uri": "https://localhost:8080/",
          "height": 35
        }
      },
      "source": [
        "print(err) #вывести ошибку"
      ],
      "execution_count": null,
      "outputs": [
        {
          "output_type": "stream",
          "text": [
            "2.4119561382368495\n"
          ],
          "name": "stdout"
        }
      ]
    },
    {
      "cell_type": "code",
      "metadata": {
        "outputId": "70c352fc-4d0e-4b3e-d7ae-f9cf54211b04",
        "id": "Pr9Wltmhs4DB",
        "colab": {
          "base_uri": "https://localhost:8080/",
          "height": 35
        }
      },
      "source": [
        "# Средняя цена по выборке\n",
        "print(sum(y_test)/len(y_test)) "
      ],
      "execution_count": null,
      "outputs": [
        {
          "output_type": "stream",
          "text": [
            "23.07843137254902\n"
          ],
          "name": "stdout"
        }
      ]
    },
    {
      "cell_type": "code",
      "metadata": {
        "id": "sv6Psdy4sFtx",
        "outputId": "78341551-f819-4fdd-e2b3-db90cb16747d",
        "colab": {
          "base_uri": "https://localhost:8080/",
          "height": 1000
        }
      },
      "source": [
        "# Предсказание vs правильный ответ\n",
        "for i in range(len(pred)):\n",
        "  print(\"Сеть сказала: \", round(pred[i],2), \", а верный ответ: \", round(y_test[i],2))"
      ],
      "execution_count": null,
      "outputs": [
        {
          "output_type": "stream",
          "text": [
            "Сеть сказала:  10.5 , а верный ответ:  7.2\n",
            "Сеть сказала:  18.81 , а верный ответ:  18.8\n",
            "Сеть сказала:  21.68 , а верный ответ:  19.0\n",
            "Сеть сказала:  41.36 , а верный ответ:  27.0\n",
            "Сеть сказала:  24.14 , а верный ответ:  22.2\n",
            "Сеть сказала:  24.96 , а верный ответ:  24.5\n",
            "Сеть сказала:  32.27 , а верный ответ:  31.2\n",
            "Сеть сказала:  23.53 , а верный ответ:  22.9\n",
            "Сеть сказала:  19.95 , а верный ответ:  20.5\n",
            "Сеть сказала:  21.4 , а верный ответ:  23.2\n",
            "Сеть сказала:  21.38 , а верный ответ:  18.6\n",
            "Сеть сказала:  17.35 , а верный ответ:  14.5\n",
            "Сеть сказала:  17.36 , а верный ответ:  17.8\n",
            "Сеть сказала:  44.22 , а верный ответ:  50.0\n",
            "Сеть сказала:  25.58 , а верный ответ:  20.8\n",
            "Сеть сказала:  22.96 , а верный ответ:  24.3\n",
            "Сеть сказала:  25.58 , а верный ответ:  24.2\n",
            "Сеть сказала:  20.85 , а верный ответ:  19.8\n",
            "Сеть сказала:  21.11 , а верный ответ:  19.1\n",
            "Сеть сказала:  24.37 , а верный ответ:  22.7\n",
            "Сеть сказала:  13.64 , а верный ответ:  12.0\n",
            "Сеть сказала:  13.52 , а верный ответ:  10.2\n",
            "Сеть сказала:  23.5 , а верный ответ:  20.0\n",
            "Сеть сказала:  15.91 , а верный ответ:  18.5\n",
            "Сеть сказала:  20.91 , а верный ответ:  20.9\n",
            "Сеть сказала:  24.09 , а верный ответ:  23.0\n",
            "Сеть сказала:  29.17 , а верный ответ:  27.5\n",
            "Сеть сказала:  28.66 , а верный ответ:  30.1\n",
            "Сеть сказала:  13.11 , а верный ответ:  9.5\n",
            "Сеть сказала:  21.02 , а верный ответ:  22.0\n",
            "Сеть сказала:  19.69 , а верный ответ:  21.2\n",
            "Сеть сказала:  17.45 , а верный ответ:  14.1\n",
            "Сеть сказала:  31.06 , а верный ответ:  33.1\n",
            "Сеть сказала:  25.03 , а верный ответ:  23.4\n",
            "Сеть сказала:  23.32 , а верный ответ:  20.1\n",
            "Сеть сказала:  10.16 , а верный ответ:  7.4\n",
            "Сеть сказала:  19.36 , а верный ответ:  15.4\n",
            "Сеть сказала:  20.26 , а верный ответ:  23.8\n",
            "Сеть сказала:  19.31 , а верный ответ:  20.1\n",
            "Сеть сказала:  28.25 , а верный ответ:  24.5\n",
            "Сеть сказала:  29.98 , а верный ответ:  33.0\n",
            "Сеть сказала:  29.39 , а верный ответ:  28.4\n",
            "Сеть сказала:  15.24 , а верный ответ:  14.1\n",
            "Сеть сказала:  44.23 , а верный ответ:  46.7\n",
            "Сеть сказала:  29.53 , а верный ответ:  32.5\n",
            "Сеть сказала:  28.85 , а верный ответ:  29.6\n",
            "Сеть сказала:  28.52 , а верный ответ:  28.4\n",
            "Сеть сказала:  20.19 , а верный ответ:  19.8\n",
            "Сеть сказала:  26.8 , а верный ответ:  20.2\n",
            "Сеть сказала:  24.58 , а верный ответ:  25.0\n",
            "Сеть сказала:  37.09 , а верный ответ:  35.4\n",
            "Сеть сказала:  19.19 , а верный ответ:  20.3\n",
            "Сеть сказала:  12.85 , а верный ответ:  9.7\n",
            "Сеть сказала:  15.0 , а верный ответ:  14.5\n",
            "Сеть сказала:  39.29 , а верный ответ:  34.9\n",
            "Сеть сказала:  28.69 , а верный ответ:  26.6\n",
            "Сеть сказала:  12.65 , а верный ответ:  7.2\n",
            "Сеть сказала:  48.36 , а верный ответ:  50.0\n",
            "Сеть сказала:  33.98 , а верный ответ:  32.4\n",
            "Сеть сказала:  23.18 , а верный ответ:  21.6\n",
            "Сеть сказала:  23.71 , а верный ответ:  29.8\n",
            "Сеть сказала:  16.2 , а верный ответ:  13.1\n",
            "Сеть сказала:  17.88 , а верный ответ:  27.5\n",
            "Сеть сказала:  21.09 , а верный ответ:  21.2\n",
            "Сеть сказала:  24.68 , а верный ответ:  23.1\n",
            "Сеть сказала:  21.94 , а верный ответ:  21.9\n",
            "Сеть сказала:  15.8 , а верный ответ:  13.0\n",
            "Сеть сказала:  22.8 , а верный ответ:  23.2\n",
            "Сеть сказала:  15.64 , а верный ответ:  8.1\n",
            "Сеть сказала:  9.52 , а верный ответ:  5.6\n",
            "Сеть сказала:  23.06 , а верный ответ:  21.7\n",
            "Сеть сказала:  30.37 , а верный ответ:  29.6\n",
            "Сеть сказала:  24.56 , а верный ответ:  19.6\n",
            "Сеть сказала:  16.08 , а верный ответ:  7.0\n",
            "Сеть сказала:  26.09 , а верный ответ:  26.4\n",
            "Сеть сказала:  20.92 , а верный ответ:  18.9\n",
            "Сеть сказала:  20.67 , а верный ответ:  20.9\n",
            "Сеть сказала:  26.66 , а верный ответ:  28.1\n",
            "Сеть сказала:  37.21 , а верный ответ:  35.4\n",
            "Сеть сказала:  12.03 , а верный ответ:  10.2\n",
            "Сеть сказала:  23.56 , а верный ответ:  24.3\n",
            "Сеть сказала:  41.0 , а верный ответ:  43.1\n",
            "Сеть сказала:  18.4 , а верный ответ:  17.6\n",
            "Сеть сказала:  14.98 , а верный ответ:  15.4\n",
            "Сеть сказала:  19.54 , а верный ответ:  16.2\n",
            "Сеть сказала:  18.85 , а верный ответ:  27.1\n",
            "Сеть сказала:  27.06 , а верный ответ:  21.4\n",
            "Сеть сказала:  20.85 , а верный ответ:  21.5\n",
            "Сеть сказала:  24.56 , а верный ответ:  22.4\n",
            "Сеть сказала:  26.97 , а верный ответ:  25.0\n",
            "Сеть сказала:  19.02 , а верный ответ:  16.6\n",
            "Сеть сказала:  22.09 , а верный ответ:  18.6\n",
            "Сеть сказала:  27.93 , а верный ответ:  22.0\n",
            "Сеть сказала:  43.09 , а верный ответ:  42.8\n",
            "Сеть сказала:  35.86 , а верный ответ:  35.1\n",
            "Сеть сказала:  23.06 , а верный ответ:  21.5\n",
            "Сеть сказала:  37.59 , а верный ответ:  36.0\n",
            "Сеть сказала:  48.64 , а верный ответ:  21.9\n",
            "Сеть сказала:  26.47 , а верный ответ:  24.1\n",
            "Сеть сказала:  49.36 , а верный ответ:  50.0\n",
            "Сеть сказала:  34.27 , а верный ответ:  26.7\n",
            "Сеть сказала:  22.2 , а верный ответ:  25.0\n"
          ],
          "name": "stdout"
        }
      ]
    },
    {
      "cell_type": "markdown",
      "metadata": {
        "id": "m_6XDRknyO8Q"
      },
      "source": [
        "## Визуализация качества обучения"
      ]
    },
    {
      "cell_type": "code",
      "metadata": {
        "id": "k-VXHvPjySTw"
      },
      "source": [
        "# Считаем графики ошибки\n",
        "plt.plot(history.history['mean_absolute_error'], \n",
        "         label='Средняя абсолютная ошибка на обучающем наборе')\n",
        "plt.plot(history.history['val_mean_absolute_error'], \n",
        "         label='Средняя абсолютная ошибка на проверочном наборе')\n",
        "plt.xlabel('Эпоха обучения')\n",
        "plt.ylabel('Средняя абсолютная ошибка')\n",
        "plt.legend()\n",
        "plt.show()"
      ],
      "execution_count": null,
      "outputs": []
    },
    {
      "cell_type": "markdown",
      "metadata": {
        "id": "UDHMw_dEH7_0"
      },
      "source": [
        "## Используем модель для предсказаний"
      ]
    },
    {
      "cell_type": "markdown",
      "metadata": {
        "id": "pHOIK7qaOns1"
      },
      "source": [
        "**Выполняем предсказание для тестовой выборки**"
      ]
    },
    {
      "cell_type": "code",
      "metadata": {
        "id": "5LYrptorOjPe"
      },
      "source": [
        "pred = model.predict(x_test).flatten() # Возвращается копия предсказания в виде одномерного массива\n",
        "pred = pred * (max_y - min_y) + min_y # Приводим к правильному размеру"
      ],
      "execution_count": null,
      "outputs": []
    },
    {
      "cell_type": "code",
      "metadata": {
        "id": "_D55LA1i7E4J",
        "outputId": "01970b82-6faf-417d-aa03-5d6b8595fbd5",
        "colab": {
          "base_uri": "https://localhost:8080/",
          "height": 331
        }
      },
      "source": [
        "print(pred) # Посмотрим предсказание"
      ],
      "execution_count": null,
      "outputs": [
        {
          "output_type": "stream",
          "text": [
            "[10.496517  18.814617  21.683472  41.36111   24.140724  24.960276\n",
            " 32.26851   23.532389  19.953838  21.395378  21.384392  17.35035\n",
            " 17.357895  44.224545  25.580988  22.961464  25.584091  20.845749\n",
            " 21.10512   24.37479   13.643818  13.520034  23.504147  15.9080305\n",
            " 20.911821  24.090288  29.170582  28.65779   13.107441  21.022257\n",
            " 19.69126   17.449745  31.056843  25.028097  23.316082  10.159817\n",
            " 19.364285  20.257648  19.312729  28.246029  29.97897   29.391405\n",
            " 15.240647  44.22715   29.531818  28.850248  28.519186  20.191124\n",
            " 26.804167  24.579329  37.094856  19.191912  12.854351  14.999163\n",
            " 39.29447   28.689653  12.646486  48.360493  33.979736  23.183266\n",
            " 23.713924  16.198044  17.88131   21.086504  24.683254  21.935612\n",
            " 15.796451  22.80357   15.644606   9.519339  23.05754   30.373295\n",
            " 24.562891  16.082073  26.08743   20.915133  20.67268   26.663393\n",
            " 37.206463  12.027998  23.558647  41.00388   18.404926  14.9813795\n",
            " 19.536566  18.848099  27.058083  20.85292   24.564705  26.967627\n",
            " 19.023516  22.088528  27.929562  43.09381   35.86151   23.060795\n",
            " 37.592537  48.644478  26.465744  49.358063  34.269062  22.195395 ]\n"
          ],
          "name": "stdout"
        }
      ]
    },
    {
      "cell_type": "markdown",
      "metadata": {
        "id": "TTw_JA5TOiYF"
      },
      "source": [
        "**Печатаем примеры результатов**"
      ]
    },
    {
      "cell_type": "code",
      "metadata": {
        "id": "L5KdJducOuwt",
        "outputId": "1f49c8cb-148b-4f21-9f19-713e904cc5d7",
        "colab": {
          "base_uri": "https://localhost:8080/",
          "height": 35
        }
      },
      "source": [
        "test_index = 2\n",
        "print(\"Предсказанная стоимость:\", pred[test_index], \", правильная стоимость:\", y_test[test_index])"
      ],
      "execution_count": null,
      "outputs": [
        {
          "output_type": "stream",
          "text": [
            "Предсказанная стоимость: 21.683472 , правильная стоимость: 19.0\n"
          ],
          "name": "stdout"
        }
      ]
    },
    {
      "cell_type": "markdown",
      "metadata": {
        "id": "JsOHd3RvChv0"
      },
      "source": [
        "## Визуализируем результаты предсказаний"
      ]
    },
    {
      "cell_type": "markdown",
      "metadata": {
        "id": "bf-IZgHpDQs0"
      },
      "source": [
        "График предсказаний"
      ]
    },
    {
      "cell_type": "code",
      "metadata": {
        "id": "eW4Jyk56CT4A",
        "outputId": "da2870cf-2c5a-4674-a23a-cf8347a42013",
        "colab": {
          "base_uri": "https://localhost:8080/",
          "height": 279
        }
      },
      "source": [
        "# Разброс предсказаний может показать перекос, если есть\n",
        "plt.scatter(y_test, pred) \n",
        "plt.xlabel('Правильные значение, $1K')\n",
        "plt.ylabel('Предсказания, $1K')\n",
        "plt.axis('equal')\n",
        "plt.xlim(plt.xlim())\n",
        "plt.ylim(plt.ylim())\n",
        "plt.plot([-100, 100], [-100, 100])\n",
        "plt.show()"
      ],
      "execution_count": null,
      "outputs": [
        {
          "output_type": "display_data",
          "data": {
            "image/png": "[encoded data removed]",
            "text/plain": [
              "<Figure size 432x288 with 1 Axes>"
            ]
          },
          "metadata": {
            "tags": []
          }
        }
      ]
    },
    {
      "cell_type": "markdown",
      "metadata": {
        "id": "IjAxrbvLDsI-"
      },
      "source": [
        "Гистограмма ошибок"
      ]
    },
    {
      "cell_type": "code",
      "metadata": {
        "id": "K4SHKjI_DuaE",
        "outputId": "4e2d16bc-94ac-4dfa-b32c-9c7208bbbc95",
        "colab": {
          "base_uri": "https://localhost:8080/",
          "height": 279
        }
      },
      "source": [
        "#Разность предсказанного и правильного ответа\n",
        "error = pred - y_test\n",
        "\n",
        "#Построение гистограммы\n",
        "plt.hist(abs(error), bins = 25)\n",
        "plt.xlabel(\"Значение ошибки, $1K\")\n",
        "plt.ylabel(\"Количество\")\n",
        "plt.show()"
      ],
      "execution_count": null,
      "outputs": [
        {
          "output_type": "display_data",
          "data": {
            "image/png": "[encoded data removed]",
            "text/plain": [
              "<Figure size 432x288 with 1 Axes>"
            ]
          },
          "metadata": {
            "tags": []
          }
        }
      ]
    }
  ]
}